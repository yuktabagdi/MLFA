{
 "cells": [
  {
   "cell_type": "code",
   "execution_count": 1,
   "metadata": {},
   "outputs": [
    {
     "name": "stderr",
     "output_type": "stream",
     "text": [
      "Using TensorFlow backend.\n"
     ]
    }
   ],
   "source": [
    "from keras.datasets import mnist\n",
    "import numpy as np\n",
    "import matplotlib.pyplot as plt\n",
    "%matplotlib inline\n",
    "from sklearn import tree\n",
    "from sklearn.metrics import accuracy_score\n",
    "import random"
   ]
  },
  {
   "cell_type": "markdown",
   "metadata": {},
   "source": [
    "# Loading and Creation of the Datasets"
   ]
  },
  {
   "cell_type": "code",
   "execution_count": 2,
   "metadata": {},
   "outputs": [],
   "source": [
    "(X_train, Y_train), (X_test, Y_test)=mnist.load_data()"
   ]
  },
  {
   "cell_type": "code",
   "execution_count": 3,
   "metadata": {},
   "outputs": [],
   "source": [
    "X_total=np.concatenate((X_train,X_test))\n",
    "Y_total=np.concatenate((Y_train,Y_test))\n",
    "X_Train=X_total[0:42000,:,:]\n",
    "Y_Train=Y_total[0:42000]\n",
    "X_Val=X_total[42000:56000,:,:]\n",
    "Y_Val=Y_total[42000:56000]\n",
    "X_Test=X_total[56000:,:,:]\n",
    "Y_Test=Y_total[56000:]"
   ]
  },
  {
   "cell_type": "code",
   "execution_count": 4,
   "metadata": {},
   "outputs": [
    {
     "name": "stdout",
     "output_type": "stream",
     "text": [
      "0\n"
     ]
    },
    {
     "data": {
      "image/png": "[encoded data removed]",
      "text/plain": [
       "<Figure size 432x288 with 1 Axes>"
      ]
     },
     "metadata": {
      "needs_background": "light"
     },
     "output_type": "display_data"
    }
   ],
   "source": [
    "plt.imshow(X_Val[11936],cmap='gray')\n",
    "print(Y_Val[11936])"
   ]
  },
  {
   "cell_type": "code",
   "execution_count": 5,
   "metadata": {},
   "outputs": [
    {
     "name": "stdout",
     "output_type": "stream",
     "text": [
      "784\n"
     ]
    }
   ],
   "source": [
    "### Flattening the images\n",
    "num_pixels=X_train.shape[1]*X_train.shape[2]\n",
    "print(num_pixels)\n",
    "X_Train=X_Train.reshape(X_Train.shape[0],num_pixels)\n",
    "X_Val=X_Val.reshape(X_Val.shape[0],num_pixels)\n",
    "X_Test=X_Test.reshape(X_Test.shape[0],num_pixels)"
   ]
  },
  {
   "cell_type": "code",
   "execution_count": 6,
   "metadata": {},
   "outputs": [],
   "source": [
    "### Binarization of the vectors using thresholding\n",
    "for i in range(X_Train.shape[0]):\n",
    "    X_Train[i]=np.array(X_Train[i]>127,dtype='int32')\n",
    "    if i<X_Test.shape[0]:\n",
    "        X_Test[i]=np.array(X_Test[i]>127,dtype='int32')\n",
    "        X_Val[i]=np.array(X_Val[i]>127,dtype='int32')"
   ]
  },
  {
   "cell_type": "code",
   "execution_count": 7,
   "metadata": {},
   "outputs": [
    {
     "name": "stdout",
     "output_type": "stream",
     "text": [
      "0\n"
     ]
    },
    {
     "data": {
      "image/png": "[encoded data removed]",
      "text/plain": [
       "<Figure size 432x288 with 1 Axes>"
      ]
     },
     "metadata": {
      "needs_background": "light"
     },
     "output_type": "display_data"
    }
   ],
   "source": [
    "plt.imshow(X_Val[11936].reshape(28,28),cmap='gray')\n",
    "print(Y_Val[11936])"
   ]
  },
  {
   "cell_type": "markdown",
   "metadata": {},
   "source": [
    "# Creating 50 Decision trees"
   ]
  },
  {
   "cell_type": "code",
   "execution_count": 8,
   "metadata": {},
   "outputs": [],
   "source": [
    "def create_decision_tree(X_Train,Y_Train,X_Val,Y_Val):\n",
    "    ## Choosing 10 random features\n",
    "    feature_space=random.sample(range(X_Train.shape[1]),10)\n",
    "      \n",
    "    temp_train=X_Train[:,feature_space]\n",
    "    temp_val=X_Val[:,feature_space]\n",
    "        \n",
    "    dtree=tree.DecisionTreeClassifier(max_depth=5)\n",
    "    dtree=dtree.fit(temp_train,Y_Train)\n",
    "    pred_val=dtree.predict(temp_val)\n",
    "    acc=accuracy_score(Y_Val,pred_val)\n",
    "    return feature_space,acc,dtree"
   ]
  },
  {
   "cell_type": "code",
   "execution_count": 9,
   "metadata": {},
   "outputs": [],
   "source": [
    "tree_weight={}  ## Accuracy on validation set\n",
    "tree_features={} ## Features used by the particular tree\n",
    "tree_model={}    ## ith tree model\n",
    "for i in range(50):\n",
    "    tree_features[i],tree_weight[i],tree_model[i] =create_decision_tree(X_Train,Y_Train,X_Val,Y_Val)"
   ]
  },
  {
   "cell_type": "markdown",
   "metadata": {},
   "source": [
    "# weighted classification of the test set using these 50 decision trees"
   ]
  },
  {
   "cell_type": "code",
   "execution_count": 10,
   "metadata": {},
   "outputs": [],
   "source": [
    "def random_forest(X,Y):\n",
    "    correct=0\n",
    "    error=np.zeros(X.shape[0])\n",
    "    for i in range(X.shape[0]):\n",
    "        prob=np.zeros((1,10))\n",
    "        for item in tree_model.keys():\n",
    "            ## First selecting the features of the testing item which the particular decision tree uses\n",
    "            temp=X[i][tree_features[item]].reshape(1,-1)\n",
    "            ## Weighted probabilities of each classes(0-9)\n",
    "            prob+=(tree_weight[item]*tree_model[item].predict_proba(temp))\n",
    "    \n",
    "        if np.argmax(prob)==Y[i]:  ## Correct prediction\n",
    "            correct+=1\n",
    "        else:\n",
    "            error[i]=1\n",
    "    accuracy=correct/X.shape[0]\n",
    "    return accuracy,error"
   ]
  },
  {
   "cell_type": "code",
   "execution_count": 11,
   "metadata": {},
   "outputs": [
    {
     "name": "stdout",
     "output_type": "stream",
     "text": [
      "Accuracy on the test using weighted classification with 50 Decision trees =  0.7864285714285715\n"
     ]
    }
   ],
   "source": [
    "## Cell takes some time to run ##\n",
    "test_accuracy,_ = random_forest(X_Test,Y_Test)\n",
    "print(\"Accuracy on the test using weighted classification with 50 Decision trees = \", test_accuracy)"
   ]
  },
  {
   "cell_type": "markdown",
   "metadata": {},
   "source": [
    "# Ensemble Classification using Adaboost"
   ]
  },
  {
   "cell_type": "code",
   "execution_count": 24,
   "metadata": {},
   "outputs": [],
   "source": [
    "def update(Weight, error):\n",
    "    e=np.sum(error)\n",
    "    K=10\n",
    "    performance=0.5*(np.log((1-e)/e) + np.log(K-1))  ## Where K is total number of classes (for K=2, formula becomes same as binary classification)\n",
    "    for i in range(W.shape[0]):\n",
    "        if error[i]!=0:\n",
    "            Weight[i]*=np.exp(performance)\n",
    "        else:\n",
    "            Weight[i]*=np.exp(-performance)\n",
    "    Weight=Weight/np.sum(Weight)\n",
    "    return performance, Weight"
   ]
  },
  {
   "cell_type": "code",
   "execution_count": 14,
   "metadata": {},
   "outputs": [],
   "source": [
    "## Cell takes some time to run ##\n",
    "## Initialize the weights of all samples\n",
    "N=X_Train.shape[0]\n",
    "W=np.ones(N)/N\n",
    "\n",
    "## Taking the base classifier as the Random forest\n",
    "acc,err=random_forest(X_Train,Y_Train)\n",
    "base_error=np.multiply(W,err)\n",
    "base_perf, W = update(W, base_error)\n",
    "## Now this updated W would act as base weight vector for the following iterations"
   ]
  },
  {
   "cell_type": "code",
   "execution_count": 31,
   "metadata": {},
   "outputs": [
    {
     "data": {
      "text/plain": [
       "1.6867068460992916"
      ]
     },
     "execution_count": 31,
     "metadata": {},
     "output_type": "execute_result"
    }
   ],
   "source": [
    "base_perf"
   ]
  },
  {
   "cell_type": "code",
   "execution_count": 32,
   "metadata": {},
   "outputs": [],
   "source": [
    "## Cell takes some time to run ##\n",
    "Wn=W\n",
    "perf={}\n",
    "model={}\n",
    "for it in range(20):\n",
    "    dt=tree.DecisionTreeClassifier(criterion='entropy',max_depth=5)\n",
    "    dt=dt.fit(X_Train,Y_Train,sample_weight=Wn)\n",
    "    error=np.array(dt.predict(X_Train)!=Y_Train, dtype='int32')\n",
    "    temp=np.multiply(Wn, error) ## Weighted error vector\n",
    "    perf[it], Wn = update(Wn, temp)\n",
    "    model[it]=dt"
   ]
  },
  {
   "cell_type": "code",
   "execution_count": 33,
   "metadata": {},
   "outputs": [
    {
     "data": {
      "text/plain": [
       "{0: 1.1358191232676285,\n",
       " 1: 0.9202785140711103,\n",
       " 2: 0.8212707836327383,\n",
       " 3: 0.854610700969433,\n",
       " 4: 0.7814528705925419,\n",
       " 5: 0.7304156177286876,\n",
       " 6: 0.7482750825791875,\n",
       " 7: 0.7719720921928754,\n",
       " 8: 0.7799861432275803,\n",
       " 9: 0.7643980482185475,\n",
       " 10: 0.6794714366388732,\n",
       " 11: 0.7396544133119162,\n",
       " 12: 0.7675815008180458,\n",
       " 13: 0.7257152393505926,\n",
       " 14: 0.7396862350008646,\n",
       " 15: 0.7422861123017742,\n",
       " 16: 0.7644173239210792,\n",
       " 17: 0.7962430118803527,\n",
       " 18: 0.7274574294669702,\n",
       " 19: 0.7736783705260835}"
      ]
     },
     "execution_count": 33,
     "metadata": {},
     "output_type": "execute_result"
    }
   ],
   "source": [
    "perf"
   ]
  },
  {
   "cell_type": "markdown",
   "metadata": {},
   "source": [
    "# Prediction on Test set"
   ]
  },
  {
   "cell_type": "code",
   "execution_count": 34,
   "metadata": {},
   "outputs": [],
   "source": [
    "## Function giving prediction for the base classifier\n",
    "def base_pred(X):\n",
    "    \n",
    "    prob=np.zeros((1,10))\n",
    "    for item in tree_model.keys():        \n",
    "        ## First selecting the features of the testing item which the particular decision tree uses\n",
    "        temp=X[tree_features[item]].reshape(1,-1)\n",
    "        ## Weighted probabilities of each classes(0-9)\n",
    "        prob+=(tree_weight[item]*tree_model[item].predict_proba(temp))\n",
    "    \n",
    "    return np.argmax(prob)"
   ]
  },
  {
   "cell_type": "code",
   "execution_count": 40,
   "metadata": {},
   "outputs": [],
   "source": [
    "## Cell takes some time to run ##\n",
    "Y_pred=np.empty(X_Test.shape[0])\n",
    "for i in range(X_Test.shape[0]):\n",
    "    prob=np.zeros(10)\n",
    "    prob[base_pred(X_Test[i])]+=base_perf\n",
    "    for item in model.keys():\n",
    "        prob[model[item].predict(X_Test[i].reshape(1,-1))]+=perf[item]\n",
    "    Y_pred[i]=np.argmax(prob)"
   ]
  },
  {
   "cell_type": "code",
   "execution_count": 47,
   "metadata": {},
   "outputs": [],
   "source": [
    "prediction_acc = accuracy_score(Y_Test, Y_pred)"
   ]
  },
  {
   "cell_type": "code",
   "execution_count": 51,
   "metadata": {},
   "outputs": [
    {
     "name": "stdout",
     "output_type": "stream",
     "text": [
      "Accuracy on test set by Adaboost algorithm = 0.8550714285714286\n"
     ]
    }
   ],
   "source": [
    "print(\"Accuracy on test set by Adaboost algorithm =\", prediction_acc)"
   ]
  },
  {
   "cell_type": "code",
   "execution_count": null,
   "metadata": {},
   "outputs": [],
   "source": [
    "       #### Hence Accuracy increases on implementation of Adaboost Algorithm #####"
   ]
  }
 ],
 "metadata": {
  "kernelspec": {
   "display_name": "deeplearning",
   "language": "python",
   "name": "deeplearning"
  },
  "language_info": {
   "codemirror_mode": {
    "name": "ipython",
    "version": 3
   },
   "file_extension": ".py",
   "mimetype": "text/x-python",
   "name": "python",
   "nbconvert_exporter": "python",
   "pygments_lexer": "ipython3",
   "version": "3.6.12"
  }
 },
 "nbformat": 4,
 "nbformat_minor": 4
}
